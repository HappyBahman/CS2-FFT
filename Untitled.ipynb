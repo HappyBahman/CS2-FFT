{
 "cells": [
  {
   "cell_type": "code",
   "execution_count": 1,
   "metadata": {},
   "outputs": [
    {
     "ename": "ModuleNotFoundError",
     "evalue": "No module named 'feature'",
     "traceback": [
      "\u001b[0;31m---------------------------------------------------------------------------\u001b[0m",
      "\u001b[0;31mModuleNotFoundError\u001b[0m                       Traceback (most recent call last)",
      "\u001b[0;32m<ipython-input-1-b703ed40d84a>\u001b[0m in \u001b[0;36m<module>\u001b[0;34m()\u001b[0m\n\u001b[1;32m      4\u001b[0m \u001b[0;32mfrom\u001b[0m \u001b[0mPIL\u001b[0m \u001b[0;32mimport\u001b[0m \u001b[0mImage\u001b[0m\u001b[0;34m\u001b[0m\u001b[0m\n\u001b[1;32m      5\u001b[0m \u001b[0;32mimport\u001b[0m \u001b[0mcvxpy\u001b[0m \u001b[0;32mas\u001b[0m \u001b[0mcvx\u001b[0m\u001b[0;34m\u001b[0m\u001b[0m\n\u001b[0;32m----> 6\u001b[0;31m \u001b[0;32mfrom\u001b[0m \u001b[0mfeature\u001b[0m \u001b[0;32mimport\u001b[0m \u001b[0mextract_cs2fft\u001b[0m\u001b[0;34m,\u001b[0m \u001b[0mamp_filter\u001b[0m\u001b[0;34m\u001b[0m\u001b[0m\n\u001b[0m\u001b[1;32m      7\u001b[0m \u001b[0;32mimport\u001b[0m \u001b[0mmatplotlib\u001b[0m\u001b[0;34m.\u001b[0m\u001b[0mpyplot\u001b[0m \u001b[0;32mas\u001b[0m \u001b[0mplt\u001b[0m\u001b[0;34m\u001b[0m\u001b[0m\n\u001b[1;32m      8\u001b[0m \u001b[0;32mfrom\u001b[0m \u001b[0mcomp_sensing\u001b[0m \u001b[0;32mimport\u001b[0m \u001b[0mload_matrix\u001b[0m\u001b[0;34m\u001b[0m\u001b[0m\n",
      "\u001b[0;31mModuleNotFoundError\u001b[0m: No module named 'feature'"
     ],
     "output_type": "error"
    }
   ],
   "source": [
    "from sklearn import datasets\n",
    "from sklearn.preprocessing import normalize\n",
    "import numpy as np\n",
    "from PIL import Image\n",
    "import cvxpy as cvx\n",
    "from feature import extract_cs2fft, amp_filter\n",
    "import matplotlib.pyplot as plt\n",
    "from comp_sensing import load_matrix\n",
    "# dataset = datasets.fetch_lfw_people(data_home='./lfw_data')\n",
    "\n",
    "bernoulli_mtrx = load_matrix()\n",
    "threshold = 1\n",
    "num_of_windows = 100\n",
    "As = []\n",
    "for cls in range(1, 4):\n",
    "    new_A = np.zeros((5, 10))\n",
    "    for d in range(0, 10, 2):\n",
    "        first = np.array(Image.open(\"./att_faces/orl_faces/s\" + str(cls) + \"/\" + str(d + 1) + \".pgm\")).flatten()\n",
    "        fft_sum = extract_cs2fft(first, num_of_windows)\n",
    "        # todo: check, are we throwing away important data?\n",
    "        fft_sum = fft_sum[1:]\n",
    "        amp_filter(fft_sum, threshold)\n",
    "        x_f = np.matmul(bernoulli_mtrx.transpose(), fft_sum)\n",
    "        x_f_normalized = normalize(x_f.reshape(1, -1), norm='l2')\n",
    "        new_A[int(d/2), :] = x_f_normalized\n",
    "    As.append(new_A)\n"
   ]
  },
  {
   "cell_type": "code",
   "execution_count": 10,
   "metadata": {},
   "outputs": [
    {
     "name": "stdout",
     "output_type": "stream",
     "text": [
      "2\n",
      "4.1217541230542\n",
      "2\n",
      "inf\n",
      "2\n",
      "inf\n",
      "2\n",
      "4.382925301835301\n",
      "2\n",
      "2.501368569740405\n",
      "0.0\n"
     ]
    }
   ],
   "source": [
    "t = f = 0\n",
    "\n",
    "for i in range(0, 9, 2):\n",
    "    test = np.array(Image.open(\"./att_faces/orl_faces/s1/\" + str(i + 2) + \".pgm\")).flatten()\n",
    "    fft_sum = extract_cs2fft(test)\n",
    "    fft_sum = fft_sum[1:]\n",
    "    amp_filter(fft_sum, th)\n",
    "#     print(\"fft_sum\")\n",
    "#     plt.plot(fft_sum)    \n",
    "#     plt.show()\n",
    "    \n",
    "    idx = None\n",
    "    min_err = np.inf\n",
    "\n",
    "    for cls in range(0, 3):\n",
    "        theta = cvx.Variable(5)\n",
    "        A = As[cls]\n",
    "#         print(\"vectors : \")\n",
    "#         for j in range(5):\n",
    "#             plt.plot(A[j])\n",
    "#             plt.show()\n",
    "        # constraints = [cvx.norm1(cvx.sum(A.real.transpose() * theta, axis=1) - fft_sum.real) <= eps,\n",
    "        #                cvx.norm1(cvx.sum(A.imag.transpose() * theta, axis=1) - fft_sum.imag) <= eps]\n",
    "        \n",
    "        \n",
    "        eps = 10\n",
    "        constraints = [cvx.norm1(cvx.matmul(A.real.transpose(), theta) - fft_sum.real) <= eps,\n",
    "                       cvx.norm1(cvx.matmul(A.imag.transpose(), theta) - fft_sum.imag) <= eps]\n",
    "        objective = cvx.Minimize(cvx.norm(theta, 1))\n",
    "        prob = cvx.Problem(objective, constraints)\n",
    "        result = prob.solve()\n",
    "        if theta.value is not None:\n",
    "            err = sum(np.sum((A.real.transpose() * theta.value), axis=1) - fft_sum.real) + \\\n",
    "                  sum(np.sum((A.imag.transpose() * theta.value), axis=1) - fft_sum.imag)\n",
    "        else:\n",
    "            err = np.inf\n",
    "        if abs(err) < min_err:\n",
    "            min_err = abs(err)\n",
    "            idx = cls\n",
    "    print(cls)\n",
    "    if cls == 0:\n",
    "        t += 1\n",
    "    else:\n",
    "        f += 1\n",
    "\n",
    "    print(min_err)\n",
    "print(t/ (t + f))\n"
   ]
  },
  {
   "cell_type": "code",
   "execution_count": 45,
   "metadata": {},
   "outputs": [
    {
     "ename": "TypeError",
     "evalue": "create_sampling_matrix_bernoulli() takes 1 positional argument but 2 were given",
     "traceback": [
      "\u001b[0;31m---------------------------------------------------------------------------\u001b[0m",
      "\u001b[0;31mTypeError\u001b[0m                                 Traceback (most recent call last)",
      "\u001b[0;32m<ipython-input-45-ab9747ad87be>\u001b[0m in \u001b[0;36m<module>\u001b[0;34m()\u001b[0m\n\u001b[1;32m      1\u001b[0m \u001b[0;32mfrom\u001b[0m \u001b[0mcomp_sensing\u001b[0m \u001b[0;32mimport\u001b[0m \u001b[0mload_matrix\u001b[0m\u001b[0;34m,\u001b[0m \u001b[0mgenerate_matrix\u001b[0m\u001b[0;34m\u001b[0m\u001b[0m\n\u001b[0;32m----> 2\u001b[0;31m \u001b[0mgenerate_matrix\u001b[0m\u001b[0;34m(\u001b[0m\u001b[0;34m)\u001b[0m\u001b[0;34m\u001b[0m\u001b[0m\n\u001b[0m",
      "\u001b[0;32m/media/thedarkbyte/6088D88888D85DDA/Users/Bahman/Documents/_EDJUCATION/Msc/Statistical PR/proj/comp_sensing.py\u001b[0m in \u001b[0;36mgenerate_matrix\u001b[0;34m()\u001b[0m\n\u001b[1;32m      8\u001b[0m \u001b[0;34m\u001b[0m\u001b[0m\n\u001b[1;32m      9\u001b[0m \u001b[0;32mdef\u001b[0m \u001b[0mgenerate_matrix\u001b[0m\u001b[0;34m(\u001b[0m\u001b[0;34m)\u001b[0m\u001b[0;34m:\u001b[0m\u001b[0;34m\u001b[0m\u001b[0m\n\u001b[0;32m---> 10\u001b[0;31m     \u001b[0msiize\u001b[0m \u001b[0;34m=\u001b[0m \u001b[0;34m[\u001b[0m\u001b[0;36m10\u001b[0m\u001b[0;34m,\u001b[0m \u001b[0;36m100\u001b[0m\u001b[0;34m]\u001b[0m\u001b[0;34m\u001b[0m\u001b[0m\n\u001b[0m\u001b[1;32m     11\u001b[0m     \u001b[0mmat\u001b[0m \u001b[0;34m=\u001b[0m \u001b[0mcreate_sampling_matrix_bernoulli\u001b[0m\u001b[0;34m(\u001b[0m\u001b[0msiize\u001b[0m\u001b[0;34m)\u001b[0m\u001b[0;34m\u001b[0m\u001b[0m\n\u001b[1;32m     12\u001b[0m     \u001b[0mnp\u001b[0m\u001b[0;34m.\u001b[0m\u001b[0msave\u001b[0m\u001b[0;34m(\u001b[0m\u001b[0;34m'bernoulli'\u001b[0m\u001b[0;34m,\u001b[0m \u001b[0mmat\u001b[0m\u001b[0;34m)\u001b[0m\u001b[0;34m\u001b[0m\u001b[0m\n",
      "\u001b[0;31mTypeError\u001b[0m: create_sampling_matrix_bernoulli() takes 1 positional argument but 2 were given"
     ],
     "output_type": "error"
    }
   ],
   "source": []
  },
  {
   "cell_type": "code",
   "execution_count": null,
   "metadata": {},
   "outputs": [],
   "source": []
  },
  {
   "cell_type": "code",
   "execution_count": null,
   "metadata": {},
   "outputs": [],
   "source": []
  }
 ],
 "metadata": {
  "kernelspec": {
   "display_name": "Python 3",
   "language": "python",
   "name": "python3"
  },
  "language_info": {
   "codemirror_mode": {
    "name": "ipython",
    "version": 3
   },
   "file_extension": ".py",
   "mimetype": "text/x-python",
   "name": "python",
   "nbconvert_exporter": "python",
   "pygments_lexer": "ipython3",
   "version": "3.6.5"
  }
 },
 "nbformat": 4,
 "nbformat_minor": 2
}
